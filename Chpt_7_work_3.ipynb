{
 "cells": [
  {
   "cell_type": "code",
   "execution_count": 1,
   "metadata": {},
   "outputs": [
    {
     "name": "stdout",
     "output_type": "stream",
     "text": [
      "\n",
      "Enter the moviegoer's age to see the ticket price: \n",
      "(Enter 'quit' when you are finished entering ages.)2\n",
      "Your ticket is $0.\n",
      "\n",
      "Enter the moviegoer's age to see the ticket price: \n",
      "(Enter 'quit' when you are finished entering ages.)12\n",
      "Your ticket is $10.\n",
      "\n",
      "Enter the moviegoer's age to see the ticket price: \n",
      "(Enter 'quit' when you are finished entering ages.)40\n",
      "Your ticket is $15.\n",
      "\n",
      "Enter the moviegoer's age to see the ticket price: \n",
      "(Enter 'quit' when you are finished entering ages.)quit\n"
     ]
    }
   ],
   "source": [
    "prompt = \"\\nEnter the moviegoer's age to see the ticket price: \"\n",
    "prompt += \"\\n(Enter 'quit' when you are finished entering ages.)\"\n",
    "\n",
    "while True:\n",
    "    age = input(prompt)\n",
    "    if age == 'quit':\n",
    "        break\n",
    "    age = int(age)\n",
    "    \n",
    "    if age < 3:\n",
    "        print(\"Your ticket is $0.\")\n",
    "    elif age < 13:\n",
    "        print(\"Your ticket is $10.\")\n",
    "    else:\n",
    "        print(\"Your ticket is $15.\")"
   ]
  },
  {
   "cell_type": "code",
   "execution_count": 3,
   "metadata": {},
   "outputs": [
    {
     "name": "stdout",
     "output_type": "stream",
     "text": [
      "Verifying user: Candace\n",
      "Verifying user: Brian\n",
      "Verifying user: Alice\n",
      "\n",
      "The following users have been confirmed: \n",
      "Candace\n",
      "Brian\n",
      "Alice\n"
     ]
    }
   ],
   "source": [
    "unconfirmed_users = ['alice', 'brian', 'candace']\n",
    "confirmed_users = []\n",
    "\n",
    "while unconfirmed_users:\n",
    "    current_user = unconfirmed_users.pop()\n",
    "    \n",
    "    print(\"Verifying user: \" + current_user.title())\n",
    "    confirmed_users.append(current_user)\n",
    "\n",
    "print(\"\\nThe following users have been confirmed: \")\n",
    "for confirmed_user in confirmed_users:\n",
    "    print(confirmed_user.title())"
   ]
  },
  {
   "cell_type": "code",
   "execution_count": 4,
   "metadata": {},
   "outputs": [
    {
     "name": "stdout",
     "output_type": "stream",
     "text": [
      "['dog', 'cat', 'dog', 'goldfish', 'cat', 'rabbit', 'cat']\n",
      "['dog', 'dog', 'goldfish', 'rabbit']\n"
     ]
    }
   ],
   "source": [
    "pets = ['dog', 'cat', 'dog', 'goldfish', 'cat', 'rabbit', 'cat']\n",
    "print(pets)\n",
    "\n",
    "while 'cat' in pets:\n",
    "    pets.remove('cat')\n",
    "\n",
    "print(pets)"
   ]
  },
  {
   "cell_type": "code",
   "execution_count": 6,
   "metadata": {},
   "outputs": [
    {
     "name": "stdout",
     "output_type": "stream",
     "text": [
      "\n",
      "What is your name? Lena\n",
      "Which mountain would you like to climb someday? Kilimanjaro\n",
      "Would you like to let another person response? (yes/no) yes\n",
      "\n",
      "What is your name? Patrick\n",
      "Which mountain would you like to climb someday? St. Helens\n",
      "Would you like to let another person response? (yes/no) no\n",
      "\n",
      "--- Poll Results ---\n",
      "Lena would like to climb Kilimanjaro.\n",
      "Patrick would like to climb St. Helens.\n"
     ]
    }
   ],
   "source": [
    "responses = {}\n",
    "\n",
    "polling_active = True\n",
    "\n",
    "while polling_active:\n",
    "    name = input(\"\\nWhat is your name? \")\n",
    "    response = input(\"Which mountain would you like to climb someday? \")\n",
    "    \n",
    "    responses[name] = response\n",
    "    \n",
    "    repeat = input(\"Would you like to let another person response? (yes/no) \")\n",
    "    if repeat == 'no':\n",
    "        polling_active = False\n",
    "\n",
    "print(\"\\n--- Poll Results ---\")\n",
    "for name, response in responses.items():\n",
    "    print(name + \" would like to climb \" + response + \".\")"
   ]
  },
  {
   "cell_type": "code",
   "execution_count": 8,
   "metadata": {},
   "outputs": [
    {
     "name": "stdout",
     "output_type": "stream",
     "text": [
      "I made your Roast Beef sandwich!\n",
      "I made your Turkey sandwich!\n",
      "I made your Hero sandwich!\n",
      "I made your Veggie Sub sandwich!\n"
     ]
    }
   ],
   "source": [
    "sandwich_orders = ['veggie sub', 'hero', 'turkey', 'roast beef']\n",
    "finished_sandwiches = []\n",
    "\n",
    "while sandwich_orders:\n",
    "    current_sandwich = sandwich_orders.pop()\n",
    "    \n",
    "    print(\"I made your \" + current_sandwich.title() + \" sandwich!\")\n",
    "    finished_sandwiches.append(current_sandwich)"
   ]
  },
  {
   "cell_type": "code",
   "execution_count": 9,
   "metadata": {},
   "outputs": [
    {
     "name": "stdout",
     "output_type": "stream",
     "text": [
      "\n",
      "The deli is out of pastrami.\n",
      "I made your roast beef sandwich.\n",
      "I made your turkey sandwich.\n",
      "I made your hero sandwich.\n",
      "I made your veggie sub sandwich.\n"
     ]
    }
   ],
   "source": [
    "sandwich_orders = ['veggie sub', 'pastrami', 'hero', 'pastrami', 'turkey', 'pastrami', 'roast beef']\n",
    "finished_sandwiches = []\n",
    "\n",
    "while 'pastrami' in sandwich_orders:\n",
    "    sandwich_orders.remove('pastrami')\n",
    "\n",
    "print(\"\\nThe deli is out of pastrami.\")\n",
    "\n",
    "while sandwich_orders:\n",
    "    current_sandwich = sandwich_orders.pop()\n",
    "    \n",
    "    print(\"I made your \" + current_sandwich + \" sandwich.\")\n",
    "    finished_sandwiches.append(current_sandwich)"
   ]
  },
  {
   "cell_type": "code",
   "execution_count": 10,
   "metadata": {},
   "outputs": [
    {
     "name": "stdout",
     "output_type": "stream",
     "text": [
      "\n",
      "What is your name? Lena\n",
      "\n",
      "If you could visit one place in the world, where would you go? Paris\n",
      "Would you like to let another person respond? (yes/no) yes\n",
      "\n",
      "What is your name? Patrick\n",
      "\n",
      "If you could visit one place in the world, where would you go? Norway\n",
      "Would you like to let another person respond? (yes/no) no\n",
      "\n",
      "--- Poll Results ---\n",
      "Lena would like to visit Paris.\n",
      "Patrick would like to visit Norway.\n"
     ]
    }
   ],
   "source": [
    "response = {}\n",
    "\n",
    "polling_active = True\n",
    "\n",
    "while polling_active:\n",
    "    name = input(\"\\nWhat is your name? \")\n",
    "    response = input(\"\\nIf you could visit one place in the world, where would you go? \")\n",
    "    \n",
    "    responses[name] = response\n",
    "    \n",
    "    repeat = input(\"Would you like to let another person respond? (yes/no) \")\n",
    "    if repeat == 'no':\n",
    "        polling_active = False\n",
    "\n",
    "print(\"\\n--- Poll Results ---\")\n",
    "for name, response in responses.items():\n",
    "    print(name + \" would like to visit \" + response + \".\")"
   ]
  },
  {
   "cell_type": "code",
   "execution_count": null,
   "metadata": {},
   "outputs": [],
   "source": []
  }
 ],
 "metadata": {
  "kernelspec": {
   "display_name": "Python 3",
   "language": "python",
   "name": "python3"
  },
  "language_info": {
   "codemirror_mode": {
    "name": "ipython",
    "version": 3
   },
   "file_extension": ".py",
   "mimetype": "text/x-python",
   "name": "python",
   "nbconvert_exporter": "python",
   "pygments_lexer": "ipython3",
   "version": "3.6.5"
  }
 },
 "nbformat": 4,
 "nbformat_minor": 2
}
