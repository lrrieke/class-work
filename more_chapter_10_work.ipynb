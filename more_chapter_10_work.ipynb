{
 "cells": [
  {
   "cell_type": "code",
   "execution_count": 1,
   "metadata": {},
   "outputs": [
    {
     "name": "stdout",
     "output_type": "stream",
     "text": [
      "What is your favorite number? 23\n",
      "We'll remember your favorite number\n"
     ]
    }
   ],
   "source": [
    "import json\n",
    "\n",
    "favorite_number = input(\"What is your favorite number? \")\n",
    "\n",
    "filename = 'favorite_number.json'\n",
    "with open(filename, 'w') as file_object:\n",
    "    json.dump(favorite_number, file_object)\n",
    "    print(\"We'll remember your favorite number\")"
   ]
  },
  {
   "cell_type": "code",
   "execution_count": 2,
   "metadata": {},
   "outputs": [
    {
     "name": "stdout",
     "output_type": "stream",
     "text": [
      "I know your favorite number! It's 23!\n"
     ]
    }
   ],
   "source": [
    "import json\n",
    "\n",
    "filename = 'favorite_number.json'\n",
    "\n",
    "with open(filename) as file_object:\n",
    "    favorite_number = json.load(file_object)\n",
    "    print(\"I know your favorite number! It's \" + favorite_number + \"!\")"
   ]
  },
  {
   "cell_type": "code",
   "execution_count": 6,
   "metadata": {},
   "outputs": [
    {
     "name": "stdout",
     "output_type": "stream",
     "text": [
      "What is your favorite number? 23\n",
      "We'll remember your favorite number.\n"
     ]
    }
   ],
   "source": [
    "import json\n",
    "\n",
    "filename = 'favorite_number.json'\n",
    "try:\n",
    "    with open(filename) as file_object:\n",
    "        favorite_number = json.load(file_object)\n",
    "except FileNotFoundError:\n",
    "    favorite_number = input(\"What is your favorite number? \")\n",
    "    with open(filename, 'w') as file_object:\n",
    "        json.dump(favorite_number, file_object)\n",
    "        print(\"We'll remember your favorite number.\")\n",
    "else:\n",
    "    print(\"I know your favorite number! It's \" + favorite_number + \"!\")"
   ]
  },
  {
   "cell_type": "code",
   "execution_count": 9,
   "metadata": {},
   "outputs": [
    {
     "name": "stdout",
     "output_type": "stream",
     "text": [
      "Are you Lena? (y/n)n\n",
      "What is your name? Ray\n",
      "We'll remember you when you come back, Ray!\n"
     ]
    }
   ],
   "source": [
    "import json\n",
    "\n",
    "def get_stored_username():\n",
    "    filename = 'username.json'\n",
    "    try:\n",
    "        with open(filename) as file_object:\n",
    "            username = json.load(file_object)\n",
    "    except FileNotFoundError:\n",
    "        return None\n",
    "    else:\n",
    "        return username\n",
    "\n",
    "def get_new_username():\n",
    "    username = input(\"What is your name? \")\n",
    "    filename = 'username.json'\n",
    "    with open(filename, 'w') as file_object:\n",
    "        json.dump(username, file_object)\n",
    "    return username\n",
    "\n",
    "def greet_user():\n",
    "    username = get_stored_username()\n",
    "    if username:\n",
    "        correct = input(\"Are you \" + username + \"? (y/n)\")\n",
    "        if correct == 'y':\n",
    "            print(\"Welcome back, \" + username + \"!\")\n",
    "        else:\n",
    "            username = get_new_username()\n",
    "            print(\"We'll remember you when you come back, \" + username + \"!\")\n",
    "    else:\n",
    "        username = get_new_username()\n",
    "        print(\"We'll remember you when you come back, \" + username + \"!\")\n",
    "\n",
    "greet_user()"
   ]
  },
  {
   "cell_type": "code",
   "execution_count": null,
   "metadata": {},
   "outputs": [],
   "source": []
  }
 ],
 "metadata": {
  "kernelspec": {
   "display_name": "Python 3",
   "language": "python",
   "name": "python3"
  },
  "language_info": {
   "codemirror_mode": {
    "name": "ipython",
    "version": 3
   },
   "file_extension": ".py",
   "mimetype": "text/x-python",
   "name": "python",
   "nbconvert_exporter": "python",
   "pygments_lexer": "ipython3",
   "version": "3.6.5"
  }
 },
 "nbformat": 4,
 "nbformat_minor": 2
}
