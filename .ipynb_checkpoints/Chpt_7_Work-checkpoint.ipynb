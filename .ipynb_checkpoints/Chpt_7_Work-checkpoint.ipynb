{
 "cells": [
  {
   "cell_type": "code",
   "execution_count": 1,
   "metadata": {},
   "outputs": [
    {
     "name": "stdout",
     "output_type": "stream",
     "text": [
      "Tell me something, and I will repeat it back to you: Hello everyone!\n",
      "Hello everyone!\n"
     ]
    }
   ],
   "source": [
    "message = input(\"Tell me something, and I will repeat it back to you: \")\n",
    "print(message)"
   ]
  },
  {
   "cell_type": "code",
   "execution_count": 2,
   "metadata": {},
   "outputs": [
    {
     "name": "stdout",
     "output_type": "stream",
     "text": [
      "Please enter your name: Lena\n",
      "Hello Lena!\n"
     ]
    }
   ],
   "source": [
    "name = input(\"Please enter your name: \")\n",
    "print(\"Hello \" + name + \"!\")"
   ]
  },
  {
   "cell_type": "code",
   "execution_count": 3,
   "metadata": {},
   "outputs": [
    {
     "name": "stdout",
     "output_type": "stream",
     "text": [
      "If you tell us who you are, we can personalize the messages you see.\n",
      "What is your first name? Lena\n",
      "\n",
      "Hello, Lena!\n"
     ]
    }
   ],
   "source": [
    "prompt = \"If you tell us who you are, we can personalize the messages you see.\"\n",
    "prompt += \"\\nWhat is your first name? \"\n",
    "\n",
    "name = input(prompt)\n",
    "print(\"\\nHello, \" + name + \"!\")"
   ]
  },
  {
   "cell_type": "code",
   "execution_count": 4,
   "metadata": {},
   "outputs": [
    {
     "name": "stdout",
     "output_type": "stream",
     "text": [
      "How old are you? 21\n"
     ]
    }
   ],
   "source": [
    "age = input(\"How old are you? \")"
   ]
  },
  {
   "cell_type": "code",
   "execution_count": 5,
   "metadata": {},
   "outputs": [
    {
     "data": {
      "text/plain": [
       "True"
      ]
     },
     "execution_count": 5,
     "metadata": {},
     "output_type": "execute_result"
    }
   ],
   "source": [
    "age = int(age)\n",
    "age >= 18"
   ]
  },
  {
   "cell_type": "code",
   "execution_count": 6,
   "metadata": {},
   "outputs": [
    {
     "name": "stdout",
     "output_type": "stream",
     "text": [
      "How tall are you, in inches? 42\n",
      "\n",
      "You're tall enough to ride!\n"
     ]
    }
   ],
   "source": [
    "height = input(\"How tall are you, in inches? \")\n",
    "height = int(height)\n",
    "\n",
    "if height >= 36:\n",
    "    print(\"\\nYou're tall enough to ride!\")\n",
    "else:\n",
    "    print(\"\\nYou'll be able to ride when you're a little older.\")"
   ]
  },
  {
   "cell_type": "code",
   "execution_count": 9,
   "metadata": {},
   "outputs": [
    {
     "name": "stdout",
     "output_type": "stream",
     "text": [
      "Enter a number, and I'll tell you if it's even or odd: 7\n",
      "\n",
      "The number 7 is odd.\n"
     ]
    }
   ],
   "source": [
    "number = input(\"Enter a number, and I'll tell you if it's even or odd: \")\n",
    "number = int(number)\n",
    "\n",
    "if number % 2 == 0:\n",
    "    print(\"\\nThe number \" + str(number) + \"is even.\")\n",
    "else:\n",
    "    print(\"\\nThe number \" + str(number) + \" is odd.\")"
   ]
  },
  {
   "cell_type": "code",
   "execution_count": 11,
   "metadata": {},
   "outputs": [
    {
     "name": "stdout",
     "output_type": "stream",
     "text": [
      "What kind of car would you like to rent? volvo\n",
      "\n",
      "Let me see if I can find you a Volvo.\n"
     ]
    }
   ],
   "source": [
    "car = input(\"What kind of car would you like to rent? \")\n",
    "print(\"\\nLet me see if I can find you a \" + car.title() + \".\")"
   ]
  },
  {
   "cell_type": "code",
   "execution_count": 12,
   "metadata": {},
   "outputs": [
    {
     "name": "stdout",
     "output_type": "stream",
     "text": [
      "How many people are in your party? 9\n",
      "\n",
      "Sorry, you'll have to wait 20 minutes for a table.\n"
     ]
    }
   ],
   "source": [
    "reservation = input(\"How many people are in your party? \")\n",
    "reservation = int(reservation)\n",
    "\n",
    "if reservation <= 8:\n",
    "    print(\"\\nWe can seat you now!\")\n",
    "else:\n",
    "    print(\"\\nSorry, you'll have to wait 20 minutes for a table.\")"
   ]
  },
  {
   "cell_type": "code",
   "execution_count": 13,
   "metadata": {},
   "outputs": [
    {
     "name": "stdout",
     "output_type": "stream",
     "text": [
      "Pick a number and I'll tell you whether it's a multiple of ten: 11\n",
      "\n",
      "The number 11 is not a multiple of ten.\n"
     ]
    }
   ],
   "source": [
    "multiple = input(\"Pick a number and I'll tell you whether it's a multiple of ten: \")\n",
    "multiple = int(multiple)\n",
    "\n",
    "if multiple % 10 == 0:\n",
    "    print(\"\\nThe number \" + str(multiple) + \" is a multiple of ten.\")\n",
    "else:\n",
    "    print(\"\\nThe number \" + str(multiple) + \" is not a multiple of ten.\")"
   ]
  },
  {
   "cell_type": "code",
   "execution_count": 16,
   "metadata": {},
   "outputs": [
    {
     "name": "stdout",
     "output_type": "stream",
     "text": [
      "1\n",
      "2\n",
      "3\n",
      "4\n",
      "5\n"
     ]
    }
   ],
   "source": [
    "current_number = 1\n",
    "while current_number <= 5:\n",
    "    print(current_number)\n",
    "    current_number += 1"
   ]
  },
  {
   "cell_type": "code",
   "execution_count": null,
   "metadata": {},
   "outputs": [],
   "source": [
    "prompt = \"\\nTell me something, and I will repeat it back to you: \"\n",
    "prompt += \"\\nEnter 'quit' to end the program.\"\n",
    "\n",
    "message = \"\"\n",
    "while message != 'quit':\n",
    "    message = input(prompt)\n",
    "    \n",
    "    if message != 'quit':\n",
    "        print(message)"
   ]
  },
  {
   "cell_type": "code",
   "execution_count": null,
   "metadata": {},
   "outputs": [],
   "source": [
    "prompt = \"\\nTell me something, and I will repeat it back to you: \"\n",
    "prompt += \"\\Enter 'quit' to end the program.\"\n",
    "\n",
    "active = True\n",
    "while active:\n",
    "    message = input(prompt)\n",
    "    \n",
    "    if message == 'quit':\n",
    "        active = False\n",
    "    else:\n",
    "        print(message)"
   ]
  },
  {
   "cell_type": "code",
   "execution_count": null,
   "metadata": {},
   "outputs": [],
   "source": []
  }
 ],
 "metadata": {
  "kernelspec": {
   "display_name": "Python 3",
   "language": "python",
   "name": "python3"
  },
  "language_info": {
   "codemirror_mode": {
    "name": "ipython",
    "version": 3
   },
   "file_extension": ".py",
   "mimetype": "text/x-python",
   "name": "python",
   "nbconvert_exporter": "python",
   "pygments_lexer": "ipython3",
   "version": "3.6.5"
  }
 },
 "nbformat": 4,
 "nbformat_minor": 2
}
