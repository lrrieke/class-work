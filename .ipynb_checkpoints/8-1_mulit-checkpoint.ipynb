{
 "cells": [
  {
   "cell_type": "code",
   "execution_count": 4,
   "metadata": {},
   "outputs": [],
   "source": [
    "import pandas as pd"
   ]
  },
  {
   "cell_type": "code",
   "execution_count": 5,
   "metadata": {},
   "outputs": [],
   "source": [
    "from matplotlib import pyplot as plt"
   ]
  },
  {
   "cell_type": "code",
   "execution_count": 6,
   "metadata": {},
   "outputs": [
    {
     "data": {
      "text/html": [
       "<div>\n",
       "<style scoped>\n",
       "    .dataframe tbody tr th:only-of-type {\n",
       "        vertical-align: middle;\n",
       "    }\n",
       "\n",
       "    .dataframe tbody tr th {\n",
       "        vertical-align: top;\n",
       "    }\n",
       "\n",
       "    .dataframe thead th {\n",
       "        text-align: right;\n",
       "    }\n",
       "</style>\n",
       "<table border=\"1\" class=\"dataframe\">\n",
       "  <thead>\n",
       "    <tr style=\"text-align: right;\">\n",
       "      <th></th>\n",
       "      <th>Month</th>\n",
       "      <th>Cameras</th>\n",
       "      <th>Laptops</th>\n",
       "      <th>Printers</th>\n",
       "      <th>Desktops</th>\n",
       "    </tr>\n",
       "  </thead>\n",
       "  <tbody>\n",
       "    <tr>\n",
       "      <th>0</th>\n",
       "      <td>Jan</td>\n",
       "      <td>1,217</td>\n",
       "      <td>1,825</td>\n",
       "      <td>1,105</td>\n",
       "      <td>1,092</td>\n",
       "    </tr>\n",
       "    <tr>\n",
       "      <th>1</th>\n",
       "      <td>Feb</td>\n",
       "      <td>1,988</td>\n",
       "      <td>2,415</td>\n",
       "      <td>1,976</td>\n",
       "      <td>1,976</td>\n",
       "    </tr>\n",
       "    <tr>\n",
       "      <th>2</th>\n",
       "      <td>Mar</td>\n",
       "      <td>1,403</td>\n",
       "      <td>2,288</td>\n",
       "      <td>1,370</td>\n",
       "      <td>1,739</td>\n",
       "    </tr>\n",
       "    <tr>\n",
       "      <th>3</th>\n",
       "      <td>Apr</td>\n",
       "      <td>1,278</td>\n",
       "      <td>1,969</td>\n",
       "      <td>1,755</td>\n",
       "      <td>2,468</td>\n",
       "    </tr>\n",
       "    <tr>\n",
       "      <th>4</th>\n",
       "      <td>May</td>\n",
       "      <td>1,357</td>\n",
       "      <td>2,314</td>\n",
       "      <td>1,615</td>\n",
       "      <td>1,804</td>\n",
       "    </tr>\n",
       "    <tr>\n",
       "      <th>5</th>\n",
       "      <td>June</td>\n",
       "      <td>2,279</td>\n",
       "      <td>2,257</td>\n",
       "      <td>1,697</td>\n",
       "      <td>1,418</td>\n",
       "    </tr>\n",
       "    <tr>\n",
       "      <th>6</th>\n",
       "      <td>July</td>\n",
       "      <td>1,976</td>\n",
       "      <td>1,886</td>\n",
       "      <td>1,615</td>\n",
       "      <td>1,017</td>\n",
       "    </tr>\n",
       "    <tr>\n",
       "      <th>7</th>\n",
       "      <td>Aug</td>\n",
       "      <td>1,784</td>\n",
       "      <td>1,259</td>\n",
       "      <td>1,475</td>\n",
       "      <td>1,254</td>\n",
       "    </tr>\n",
       "    <tr>\n",
       "      <th>8</th>\n",
       "      <td>Sept</td>\n",
       "      <td>1,202</td>\n",
       "      <td>1,956</td>\n",
       "      <td>1,117</td>\n",
       "      <td>1,287</td>\n",
       "    </tr>\n",
       "    <tr>\n",
       "      <th>9</th>\n",
       "      <td>Oct</td>\n",
       "      <td>1,517</td>\n",
       "      <td>1,595</td>\n",
       "      <td>2,251</td>\n",
       "      <td>1,353</td>\n",
       "    </tr>\n",
       "    <tr>\n",
       "      <th>10</th>\n",
       "      <td>Nov</td>\n",
       "      <td>1,518</td>\n",
       "      <td>2,040</td>\n",
       "      <td>2,235</td>\n",
       "      <td>2,045</td>\n",
       "    </tr>\n",
       "    <tr>\n",
       "      <th>11</th>\n",
       "      <td>Dec</td>\n",
       "      <td>2,050</td>\n",
       "      <td>2,234</td>\n",
       "      <td>2,371</td>\n",
       "      <td>2,362</td>\n",
       "    </tr>\n",
       "  </tbody>\n",
       "</table>\n",
       "</div>"
      ],
      "text/plain": [
       "   Month  Cameras  Laptops Printers Desktops\n",
       "0    Jan   1,217    1,825    1,105    1,092 \n",
       "1    Feb   1,988    2,415    1,976    1,976 \n",
       "2    Mar   1,403    2,288    1,370    1,739 \n",
       "3    Apr   1,278    1,969    1,755    2,468 \n",
       "4    May   1,357    2,314    1,615    1,804 \n",
       "5   June   2,279    2,257    1,697    1,418 \n",
       "6   July   1,976    1,886    1,615    1,017 \n",
       "7    Aug   1,784    1,259    1,475    1,254 \n",
       "8   Sept   1,202    1,956    1,117    1,287 \n",
       "9    Oct   1,517    1,595    2,251    1,353 \n",
       "10   Nov   1,518    2,040    2,235    2,045 \n",
       "11   Dec   2,050    2,234    2,371    2,362 "
      ]
     },
     "execution_count": 6,
     "metadata": {},
     "output_type": "execute_result"
    }
   ],
   "source": [
    "sample_data = pd.read_csv('8-1_Multi.csv')\n",
    "sample_data"
   ]
  },
  {
   "cell_type": "code",
   "execution_count": 13,
   "metadata": {},
   "outputs": [
    {
     "data": {
      "image/png": "[encoded data removed]",
      "text/plain": [
       "<Figure size 432x288 with 1 Axes>"
      ]
     },
     "metadata": {},
     "output_type": "display_data"
    }
   ],
   "source": [
    "plt.bar(sample_data.Month, sample_data.Cameras, label='Cameras', color='blue')\n",
    "plt.show()"
   ]
  },
  {
   "cell_type": "code",
   "execution_count": null,
   "metadata": {},
   "outputs": [],
   "source": []
  }
 ],
 "metadata": {
  "kernelspec": {
   "display_name": "Python 3",
   "language": "python",
   "name": "python3"
  },
  "language_info": {
   "codemirror_mode": {
    "name": "ipython",
    "version": 3
   },
   "file_extension": ".py",
   "mimetype": "text/x-python",
   "name": "python",
   "nbconvert_exporter": "python",
   "pygments_lexer": "ipython3",
   "version": "3.6.5"
  }
 },
 "nbformat": 4,
 "nbformat_minor": 2
}
