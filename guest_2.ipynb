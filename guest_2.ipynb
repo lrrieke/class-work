{
 "cells": [
  {
   "cell_type": "code",
   "execution_count": 2,
   "metadata": {},
   "outputs": [
    {
     "name": "stdout",
     "output_type": "stream",
     "text": [
      "What's your name? Lena\n"
     ]
    }
   ],
   "source": [
    "name = input(\"What's your name? \")\n",
    "\n",
    "filename = 'guest.txt'\n",
    "\n",
    "with open(filename, 'w') as file_object:\n",
    "\tfile_object.write(name)"
   ]
  },
  {
   "cell_type": "code",
   "execution_count": 2,
   "metadata": {},
   "outputs": [
    {
     "name": "stdout",
     "output_type": "stream",
     "text": [
      "\n",
      "Please enter your name: \n",
      "(Enter quit when you are finished.)Lena\n",
      "You have been added to the guestbook.\n",
      "\n",
      "Please enter your name: \n",
      "(Enter quit when you are finished.)Patrick\n",
      "You have been added to the guestbook.\n",
      "\n",
      "Please enter your name: \n",
      "(Enter quit when you are finished.)Renee\n",
      "You have been added to the guestbook.\n",
      "\n",
      "Please enter your name: \n",
      "(Enter quit when you are finished.)quit\n"
     ]
    }
   ],
   "source": [
    "filename = 'guestbook.txt'\n",
    "\n",
    "prompt = \"\\nPlease enter your name: \"\n",
    "prompt += \"\\n(Enter quit when you are finished.)\"\n",
    "\n",
    "while True:\n",
    "    name = input(prompt)\n",
    "    \n",
    "    if name == 'quit':\n",
    "        break\n",
    "    else:\n",
    "        with open(filename, 'a') as file_object:\n",
    "            file_object.write(name + \"\\n\")\n",
    "        print (\"You have been added to the guestbook.\")"
   ]
  },
  {
   "cell_type": "code",
   "execution_count": 3,
   "metadata": {},
   "outputs": [
    {
     "name": "stdout",
     "output_type": "stream",
     "text": [
      "\n",
      "Why do you like programming? \n",
      "(Enter 'quit' when you are finished.)I like learning a new skill.\n",
      "Thanks! Your response has been recorded.\n",
      "\n",
      "Why do you like programming? \n",
      "(Enter 'quit' when you are finished.)I like working with logic.\n",
      "Thanks! Your response has been recorded.\n",
      "\n",
      "Why do you like programming? \n",
      "(Enter 'quit' when you are finished.)It is completely foreign to me and I enjoy a challenge.\n",
      "Thanks! Your response has been recorded.\n",
      "\n",
      "Why do you like programming? \n",
      "(Enter 'quit' when you are finished.)quit\n"
     ]
    }
   ],
   "source": [
    "filename = 'poll_responses.txt'\n",
    "\n",
    "prompt = \"\\nWhy do you like programming? \"\n",
    "prompt += \"\\n(Enter 'quit' when you are finished.)\"\n",
    "\n",
    "while True:\n",
    "    response = input(prompt)\n",
    "    \n",
    "    if response == 'quit':\n",
    "        break\n",
    "    else:\n",
    "        with open(filename, 'a') as file_object:\n",
    "            file_object.write(response + \"\\n\")\n",
    "        print(\"Thanks! Your response has been recorded.\")"
   ]
  },
  {
   "cell_type": "code",
   "execution_count": 4,
   "metadata": {},
   "outputs": [
    {
     "name": "stdout",
     "output_type": "stream",
     "text": [
      "Give me two numbers, and I'll divide them.\n",
      "Enter 'q' to quit.\n",
      "\n",
      "First number: 5\n",
      "Second number: 0\n",
      "You can't divide by 0.\n",
      "\n",
      "First number: 5\n",
      "Second number: 1\n",
      "5.0\n",
      "\n",
      "First number: q\n"
     ]
    }
   ],
   "source": [
    "print(\"Give me two numbers, and I'll divide them.\")\n",
    "print(\"Enter 'q' to quit.\")\n",
    "\n",
    "while True:\n",
    "    first_number = input(\"\\nFirst number: \")\n",
    "    if first_number == 'q':\n",
    "        break\n",
    "    second_number = input(\"Second number: \")\n",
    "    if second_number == 'q':\n",
    "        break\n",
    "    try:\n",
    "        answer = int(first_number)/ int(second_number)\n",
    "    except ZeroDivisionError:\n",
    "        print(\"You can't divide by 0.\")\n",
    "    else:\n",
    "        print(answer)"
   ]
  },
  {
   "cell_type": "code",
   "execution_count": 10,
   "metadata": {},
   "outputs": [
    {
     "name": "stdout",
     "output_type": "stream",
     "text": [
      "The file alice.txt has about 29461 words.\n"
     ]
    }
   ],
   "source": [
    "filename = 'alice.txt'\n",
    "\n",
    "try:\n",
    "    with open(filename, encoding='utf-8') as f_obj:\n",
    "        contents = f_obj.read()\n",
    "except FileNotFoundError:\n",
    "    message = \"Sorry, the file \" + filename + \" does not exist.\"\n",
    "    print(message)\n",
    "else:\n",
    "    words = contents.split()\n",
    "    num_words = len(words)\n",
    "    print(\"The file \" + filename + \" has about \" + str(num_words) + \" words.\")"
   ]
  },
  {
   "cell_type": "code",
   "execution_count": 9,
   "metadata": {},
   "outputs": [
    {
     "data": {
      "text/plain": [
       "['Alice', 'in', 'Wonderland']"
      ]
     },
     "execution_count": 9,
     "metadata": {},
     "output_type": "execute_result"
    }
   ],
   "source": [
    "title = 'Alice in Wonderland'\n",
    "title.split()"
   ]
  },
  {
   "cell_type": "code",
   "execution_count": 1,
   "metadata": {},
   "outputs": [
    {
     "name": "stdout",
     "output_type": "stream",
     "text": [
      "Give me two numbers, and I'll add them.\n",
      "Enter 'q' to quit.\n",
      "\n",
      "First number: 2\n",
      "\n",
      "Second number: 4\n",
      "6\n",
      "\n",
      "First number: r\n",
      "\n",
      "Second number: 5\n",
      "Please ensure you're entering two numbers.\n",
      "\n",
      "First number: q\n"
     ]
    }
   ],
   "source": [
    "print(\"Give me two numbers, and I'll add them.\")\n",
    "print(\"Enter 'q' to quit.\")\n",
    "\n",
    "while True:\n",
    "    first_number = input(\"\\nFirst number: \")\n",
    "    if first_number == 'q':\n",
    "        break\n",
    "    second_number = input(\"\\nSecond number: \")\n",
    "    if second_number == 'q':\n",
    "        break\n",
    "    try:\n",
    "        answer = int(first_number) + int(second_number)\n",
    "    except ValueError:\n",
    "        print(\"Please ensure you're entering two numbers.\")\n",
    "    else:\n",
    "        print(answer)"
   ]
  },
  {
   "cell_type": "code",
   "execution_count": 2,
   "metadata": {},
   "outputs": [],
   "source": [
    "filename = 'cats.txt'\n",
    "\n",
    "try:\n",
    "    with open(filename, encoding='utf-8') as file_object:\n",
    "        contents = file_object.read()\n",
    "except FileNotFoundError:\n",
    "    message = \"Sorry, the file \" + filename + \" doesn't exist.\"\n",
    "    print(message)\n",
    "    \n",
    "filename = 'dogs.txt'\n",
    "\n",
    "try:\n",
    "    with open(filename, encoding='utf-8') as file_object:\n",
    "        contents = file_object.read()\n",
    "except FileNotFoundError:\n",
    "    message = \"Sorry, the file \" + filename + \" doesn't exist.\"\n",
    "    print(message)"
   ]
  },
  {
   "cell_type": "code",
   "execution_count": null,
   "metadata": {},
   "outputs": [],
   "source": []
  }
 ],
 "metadata": {
  "kernelspec": {
   "display_name": "Python 3",
   "language": "python",
   "name": "python3"
  },
  "language_info": {
   "codemirror_mode": {
    "name": "ipython",
    "version": 3
   },
   "file_extension": ".py",
   "mimetype": "text/x-python",
   "name": "python",
   "nbconvert_exporter": "python",
   "pygments_lexer": "ipython3",
   "version": "3.6.5"
  }
 },
 "nbformat": 4,
 "nbformat_minor": 2
}
