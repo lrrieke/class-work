{
 "cells": [
  {
   "cell_type": "code",
   "execution_count": 3,
   "metadata": {},
   "outputs": [
    {
     "name": "stdout",
     "output_type": "stream",
     "text": [
      "{'artist': 'led zeppelin', 'album': 'mothership', 'tracks': 13}\n",
      "{'artist': 'belle and sebastian', 'album': 'the boy with the arab strap', 'tracks': 12}\n",
      "{'artist': 'neutral milk hotel', 'album': 'on avery island', 'tracks': 12}\n"
     ]
    }
   ],
   "source": [
    "def make_album(artist_name, album_title, tracks=''):\n",
    "    album = {'artist': artist_name, 'album': album_title}\n",
    "    if tracks:\n",
    "        album['tracks'] = tracks\n",
    "    return album\n",
    "\n",
    "record = make_album('led zeppelin', 'mothership', tracks=13)\n",
    "print(record)\n",
    "record = make_album('belle and sebastian', 'the boy with the arab strap', tracks=12)\n",
    "print(record)\n",
    "record = make_album('neutral milk hotel', 'on avery island', tracks=12)\n",
    "print(record)"
   ]
  },
  {
   "cell_type": "code",
   "execution_count": 1,
   "metadata": {},
   "outputs": [
    {
     "name": "stdout",
     "output_type": "stream",
     "text": [
      "Enter 'q' to quit at any time.\n",
      "\n",
      "Enter the name of an album: Mothership\n",
      "Who wrote the album? Led Zeppelin\n",
      "{'artist': 'Led Zeppelin', 'title': 'Mothership'}\n",
      "\n",
      "Enter the name of an album: q\n"
     ]
    }
   ],
   "source": [
    "def make_album(artist_name, album_title, tracks=0):\n",
    "    album_dict = {\n",
    "        'artist': artist_name.title(),\n",
    "        'title': album_title.title(),\n",
    "    }\n",
    "    if tracks:\n",
    "        album_dict['tracks'] = tracks\n",
    "        \n",
    "    return album_dict\n",
    "\n",
    "title_prompt=\"\\nEnter the name of an album: \"\n",
    "artist_prompt=\"Who wrote the album? \"\n",
    "\n",
    "print(\"Enter 'q' to quit at any time.\")\n",
    "\n",
    "while True:\n",
    "    album_title=input(title_prompt)\n",
    "    if album_title == 'q':\n",
    "        break\n",
    "        \n",
    "    artist_name=input(artist_prompt)\n",
    "    if artist_name == 'q':\n",
    "        break\n",
    "            \n",
    "    album = make_album(artist_name, album_title)\n",
    "    print(album)"
   ]
  },
  {
   "cell_type": "code",
   "execution_count": 2,
   "metadata": {},
   "outputs": [
    {
     "name": "stdout",
     "output_type": "stream",
     "text": [
      "Hello, Hannah!\n",
      "Hello, Ty!\n",
      "Hello, Margot!\n"
     ]
    }
   ],
   "source": [
    "def greet_users(names):\n",
    "    for name in names:\n",
    "        msg = \"Hello, \" + name.title() + \"!\"\n",
    "        print(msg)\n",
    "        \n",
    "usernames = ['hannah', 'ty', 'margot']\n",
    "greet_users(usernames)"
   ]
  },
  {
   "cell_type": "code",
   "execution_count": 3,
   "metadata": {},
   "outputs": [
    {
     "name": "stdout",
     "output_type": "stream",
     "text": [
      "Printing model dodecahedron\n",
      "Printing model robot pendant\n",
      "Printing model iphone case\n",
      "\n",
      "The following models have been printed: \n",
      "dodecahedron\n",
      "robot pendant\n",
      "iphone case\n"
     ]
    }
   ],
   "source": [
    "unprinted_designs = ['iphone case', 'robot pendant', 'dodecahedron']\n",
    "completed_models = []\n",
    "\n",
    "while unprinted_designs:\n",
    "    current_design = unprinted_designs.pop()\n",
    "    print(\"Printing model \" + current_design)\n",
    "    completed_models.append(current_design)\n",
    "    \n",
    "print(\"\\nThe following models have been printed: \")\n",
    "for completed_model in completed_models:\n",
    "    print(completed_model)"
   ]
  },
  {
   "cell_type": "code",
   "execution_count": 9,
   "metadata": {},
   "outputs": [
    {
     "name": "stdout",
     "output_type": "stream",
     "text": [
      "Printing model: dodecahedron\n",
      "Printing model: robot pendant\n",
      "Printing model: iphone case\n",
      "\n",
      "The following models have been printed: \n",
      "dodecahedron\n",
      "robot pendant\n",
      "iphone case\n"
     ]
    }
   ],
   "source": [
    "def print_models(unprinted_designs, completed_models):\n",
    "    \n",
    "    while unprinted_designs:\n",
    "        current_design = unprinted_designs.pop()\n",
    "        \n",
    "        print(\"Printing model: \" + current_design)\n",
    "        completed_models.append(current_design)\n",
    "    \n",
    "def show_completed_models(completed_models):\n",
    "    print(\"\\nThe following models have been printed: \")\n",
    "    for completed_model in completed_models:\n",
    "        print(completed_model)\n",
    "    \n",
    "unprinted_designs = ['iphone case', 'robot pendant', 'dodecahedron']\n",
    "completed_models = []\n",
    "\n",
    "print_models(unprinted_designs, completed_models)\n",
    "show_completed_models(completed_models)"
   ]
  },
  {
   "cell_type": "code",
   "execution_count": 12,
   "metadata": {},
   "outputs": [
    {
     "name": "stdout",
     "output_type": "stream",
     "text": [
      "Chris Angel\n",
      "David Blaine\n",
      "Harry Houdini\n",
      "\n",
      "Great magicians: \n",
      "Harry Houdini The Great.\n",
      "David Blaine The Great.\n",
      "Chris Angel The Great.\n",
      "\n",
      "Original magicians: \n",
      "Chris Angel\n",
      "David Blaine\n",
      "Harry Houdini\n"
     ]
    }
   ],
   "source": [
    "def show_magicians(magicians):\n",
    "    for magician in magicians:\n",
    "        print(magician.title())\n",
    "\n",
    "def make_great(magicians):\n",
    "    great_magicians = []\n",
    "    \n",
    "    while magicians:\n",
    "        magician = magicians.pop()\n",
    "        great_magician = magician + \" the Great.\"\n",
    "        great_magicians.append(great_magician)\n",
    "        \n",
    "    for great_magician in great_magicians:\n",
    "        magicians.append(great_magician)\n",
    "        \n",
    "    return magicians\n",
    "        \n",
    "magicians = ['chris angel', 'david blaine', 'harry houdini']\n",
    "show_magicians(magicians)\n",
    "\n",
    "print(\"\\nGreat magicians: \")\n",
    "great_magicians = make_great(magicians[:])\n",
    "show_magicians(great_magicians)\n",
    "\n",
    "print(\"\\nOriginal magicians: \")\n",
    "show_magicians(magicians)\n"
   ]
  },
  {
   "cell_type": "code",
   "execution_count": 13,
   "metadata": {},
   "outputs": [
    {
     "name": "stdout",
     "output_type": "stream",
     "text": [
      "('pepperoni',)\n",
      "('mushrooms', 'green peppers', 'extra cheese')\n"
     ]
    }
   ],
   "source": [
    "def make_pizza(*toppings):\n",
    "    print(toppings)\n",
    "    \n",
    "make_pizza('pepperoni')\n",
    "make_pizza('mushrooms', 'green peppers', 'extra cheese')"
   ]
  },
  {
   "cell_type": "code",
   "execution_count": 14,
   "metadata": {},
   "outputs": [
    {
     "name": "stdout",
     "output_type": "stream",
     "text": [
      "\n",
      "Making a pizza with the following toppings:\n",
      "- pepperoni\n",
      "\n",
      "Making a pizza with the following toppings:\n",
      "- mushrooms\n",
      "- green peppers\n",
      "- extra cheese\n"
     ]
    }
   ],
   "source": [
    "def make_pizza(*toppings):\n",
    "    print(\"\\nMaking a pizza with the following toppings:\")\n",
    "    for topping in toppings:\n",
    "        print(\"- \" + topping)\n",
    "        \n",
    "make_pizza('pepperoni')\n",
    "make_pizza('mushrooms', 'green peppers', 'extra cheese')"
   ]
  },
  {
   "cell_type": "code",
   "execution_count": 15,
   "metadata": {},
   "outputs": [
    {
     "name": "stdout",
     "output_type": "stream",
     "text": [
      "\n",
      "Making a 16-inch pizza with the following toppings:\n",
      "- pepperoni\n",
      "\n",
      "Making a 12-inch pizza with the following toppings:\n",
      "- mushrooms\n",
      "- green peppers\n",
      "- extra cheese\n"
     ]
    }
   ],
   "source": [
    "def make_pizza(size, *toppings):\n",
    "    print(\"\\nMaking a \" + str(size) + \"-inch pizza with the following toppings:\")\n",
    "    for topping in toppings:\n",
    "        print(\"- \" + topping)\n",
    "        \n",
    "make_pizza(16, 'pepperoni')\n",
    "make_pizza(12, 'mushrooms', 'green peppers', 'extra cheese')"
   ]
  },
  {
   "cell_type": "code",
   "execution_count": 18,
   "metadata": {},
   "outputs": [
    {
     "name": "stdout",
     "output_type": "stream",
     "text": [
      "{'first_name': 'lena', 'last_name': 'rieke', 'location': 'unlv', 'field': 'law', 'job': 'law librarian'}\n"
     ]
    }
   ],
   "source": [
    "def build_profile(first, last, **user_info):\n",
    "    profile = {}\n",
    "    profile['first_name'] = first\n",
    "    profile['last_name'] = last\n",
    "    for key, value in user_info.items():\n",
    "        profile[key] = value\n",
    "    return profile\n",
    "\n",
    "user_profile = build_profile('lena', 'rieke', location='unlv', field='law', job='law librarian')\n",
    "print(user_profile)"
   ]
  },
  {
   "cell_type": "code",
   "execution_count": 17,
   "metadata": {},
   "outputs": [
    {
     "name": "stdout",
     "output_type": "stream",
     "text": [
      "\n",
      "Making a sandwich with the following ingredients:\n",
      "- turkey\n",
      "- cheese\n",
      "- mayo\n",
      "\n",
      "Making a sandwich with the following ingredients:\n",
      "- roast beef\n",
      "- lettuce\n",
      "- tomato\n",
      "- onion\n",
      "- oil and vinegar\n",
      "\n",
      "Making a sandwich with the following ingredients:\n",
      "- cheese\n"
     ]
    }
   ],
   "source": [
    "def make_sandwiches(*ingredients):\n",
    "    print(\"\\nMaking a sandwich with the following ingredients:\")\n",
    "    for ingredient in ingredients:\n",
    "        print(\"- \" + ingredient)\n",
    "        \n",
    "make_sandwiches('turkey', 'cheese', 'mayo')\n",
    "make_sandwiches('roast beef', 'lettuce', 'tomato', 'onion', 'oil and vinegar')\n",
    "make_sandwiches('cheese')"
   ]
  },
  {
   "cell_type": "code",
   "execution_count": 19,
   "metadata": {},
   "outputs": [
    {
     "name": "stdout",
     "output_type": "stream",
     "text": [
      "{'manufacturer': 'subaru', 'model': 'impreza', 'color': 'white', 'drive': 'all wheel drive'}\n"
     ]
    }
   ],
   "source": [
    "def build_car(manufacturer, model, **car_info):\n",
    "    profile = {}\n",
    "    profile['manufacturer'] = manufacturer\n",
    "    profile['model'] = model\n",
    "    for key, value in car_info.items():\n",
    "        profile[key] = value\n",
    "    return profile\n",
    "\n",
    "car_profile = build_car('subaru', 'impreza', color='white', drive='all wheel drive')\n",
    "print(car_profile)"
   ]
  },
  {
   "cell_type": "code",
   "execution_count": null,
   "metadata": {},
   "outputs": [],
   "source": []
  }
 ],
 "metadata": {
  "kernelspec": {
   "display_name": "Python 3",
   "language": "python",
   "name": "python3"
  },
  "language_info": {
   "codemirror_mode": {
    "name": "ipython",
    "version": 3
   },
   "file_extension": ".py",
   "mimetype": "text/x-python",
   "name": "python",
   "nbconvert_exporter": "python",
   "pygments_lexer": "ipython3",
   "version": "3.6.5"
  }
 },
 "nbformat": 4,
 "nbformat_minor": 2
}
