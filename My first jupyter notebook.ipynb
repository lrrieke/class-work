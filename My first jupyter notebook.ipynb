{
 "cells": [
  {
   "cell_type": "markdown",
   "metadata": {},
   "source": [
    "# This is my first jupyter notebook\n",
    "(yes that is how it is spelled and capitalized)\n"
   ]
  },
  {
   "cell_type": "markdown",
   "metadata": {},
   "source": [
    "# Heading 1\n",
    "## Heading 2\n",
    "### Heading 3\n",
    "#### Heading 4\n",
    "##### Heading 5\n",
    "I didn't really need that comment!"
   ]
  },
  {
   "cell_type": "markdown",
   "metadata": {},
   "source": [
    "## This is a bulleted list\n",
    "* Item 1\n",
    "* Item 2\n",
    "    * Item 3\n",
    "    * Item 4\n",
    "        * Item 2ba\n",
    "    * Item 2c\n",
    "* Item 3"
   ]
  },
  {
   "cell_type": "markdown",
   "metadata": {},
   "source": [
    "### This is a numbered list\n",
    " 1. Item 1\n",
    " 2. Item 2\n",
    " 7. Item 3\n",
    " 15. Item 4\n",
    "     * Item 4a\n",
    "     * Item 4b"
   ]
  },
  {
   "cell_type": "markdown",
   "metadata": {},
   "source": [
    "#### Let's look at bold and italics\n",
    "In this line of text *this item will be in italics* while this will not. By the same token _this will be_ but this won't. In this line of text **this item will be bold** while this will not. By the same token __this will be__ but this won't. This would be **bold and *italics* text**."
   ]
  },
  {
   "cell_type": "markdown",
   "metadata": {},
   "source": [
    "# My temperature conversion script\n",
    "In this exercise, I want to enter a temperature in degrees Fahrenheit and have the code calculate degrees in Celsius. "
   ]
  },
  {
   "cell_type": "code",
   "execution_count": 2,
   "metadata": {},
   "outputs": [
    {
     "data": {
      "text/plain": [
       "0.0"
      ]
     },
     "execution_count": 2,
     "metadata": {},
     "output_type": "execute_result"
    }
   ],
   "source": [
    "f = 32\n",
    "c = (f-32)*5/9\n",
    "c"
   ]
  },
  {
   "cell_type": "code",
   "execution_count": null,
   "metadata": {},
   "outputs": [],
   "source": []
  }
 ],
 "metadata": {
  "kernelspec": {
   "display_name": "Python 3",
   "language": "python",
   "name": "python3"
  },
  "language_info": {
   "codemirror_mode": {
    "name": "ipython",
    "version": 3
   },
   "file_extension": ".py",
   "mimetype": "text/x-python",
   "name": "python",
   "nbconvert_exporter": "python",
   "pygments_lexer": "ipython3",
   "version": "3.6.5"
  }
 },
 "nbformat": 4,
 "nbformat_minor": 2
}
